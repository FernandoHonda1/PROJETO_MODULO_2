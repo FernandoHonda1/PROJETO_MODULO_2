{
 "cells": [
  {
   "cell_type": "markdown",
   "metadata": {},
   "source": [
    "# Projeto Módulo 2"
   ]
  },
  {
   "cell_type": "code",
   "execution_count": 1,
   "metadata": {},
   "outputs": [],
   "source": [
    "class No:\n",
    "    \n",
    "    def __init__(self,esquerda = None,direita = None,meio = None,texto = None):\n",
    "        self.esquerda = esquerda\n",
    "        self.direita = direita\n",
    "        self.meio = meio\n",
    "        self.texto = texto\n",
    "    \n",
    "    def pergunta_preco(self):\n",
    "        \n",
    "        resposta = input('Preço: \"Alto\"/\"Médio\"/\"Baixo\": ')\n",
    "        \n",
    "        if resposta.upper() == 'ALTO':\n",
    "            self.esquerda.pergunta_estacao()\n",
    "        elif resposta.upper() == 'MÉDIO' or resposta.upper() == 'MEDIO':\n",
    "            self.meio.pergunta_estacao()\n",
    "        elif resposta.upper() == 'BAIXO':\n",
    "            self.direita.pergunta_estacao()\n",
    "        else:\n",
    "            print(' ')\n",
    "            print('ENTRADA INVÁLIDA')\n",
    "            self.pergunta_preco()\n",
    "            \n",
    "    def pergunta_estacao(self):\n",
    "        \n",
    "        resposta = input('ESTAÇÃO: \"Verão\"/\"Inverno\": ')\n",
    "        \n",
    "        if resposta.upper() == 'VERÃO' or resposta.upper() == 'VERAO':\n",
    "            self.esquerda.pergunta_faixa_etaria()\n",
    "        elif resposta.upper() == 'INVERNO':\n",
    "            self.direita.pergunta_faixa_etaria()\n",
    "        else:\n",
    "            print(' ')\n",
    "            print('ENTRADA INVÁLIDA')\n",
    "            self.pergunta_estacao()\n",
    "            \n",
    "    def pergunta_faixa_etaria(self):\n",
    "\n",
    "        resposta = input('FAIXA ETÁRIA: \"Adulto\"/\"Criança\": ')\n",
    "        \n",
    "        if resposta.upper() == 'ADULTO':\n",
    "            print(' ')\n",
    "            print(self.esquerda.texto)\n",
    "        elif resposta.upper() == 'CRIANÇA' or resposta.upper() == 'CRIANCA':\n",
    "            print(' ')\n",
    "            print(self.direita.texto)\n",
    "        else:\n",
    "            print(' ')\n",
    "            print('ENTRADA INVÁLIDA')\n",
    "            self.pergunta_faixa_etaria()\n",
    "        \n",
    "def consulta():\n",
    "    preco.pergunta_preco()\n",
    "                \n",
    "adulto6 = No(texto = 'em branco')  # <-----preencher\n",
    "crianca6 = No(texto = 'Vendeu muito')\n",
    "\n",
    "adulto5 = No(texto = 'Vendeu muito')\n",
    "crianca5 = No(texto = 'Vendeu muito')\n",
    "\n",
    "adulto4 = No(texto = 'em branco')  # <-----preencher\n",
    "crianca4 = No(texto = 'Vendeu pouco')\n",
    "\n",
    "adulto3 = No(texto = 'Vendeu muito')\n",
    "crianca3 = No(texto = 'Vendeu pouco')\n",
    "\n",
    "adulto2 = No(texto = 'Vendeu muito')\n",
    "crianca2 = No(texto = 'Vendeu pouco')\n",
    "\n",
    "adulto1 = No(texto = 'Vendeu pouco')\n",
    "crianca1 = No(texto = 'Vendeu pouco')\n",
    "\n",
    "inverno_baixo = No(esquerda = adulto6, direita = crianca6)\n",
    "verao_baixo = No(esquerda = adulto5, direita = crianca5)\n",
    "inverno_medio = No(esquerda = adulto4, direita = crianca4)\n",
    "verao_medio = No(esquerda = adulto3, direita = crianca3)\n",
    "inverno_alto = No(esquerda = adulto2, direita = crianca2)\n",
    "verao_alto = No(esquerda = adulto1, direita = crianca1)\n",
    "\n",
    "baixo = No(esquerda = verao_baixo, direita = inverno_baixo)\n",
    "medio = No(esquerda = verao_medio, direita = inverno_medio)\n",
    "alto = No(esquerda = verao_alto, direita = inverno_alto)\n",
    "\n",
    "preco = No(esquerda=alto, meio=medio, direita=baixo)"
   ]
  },
  {
   "cell_type": "code",
   "execution_count": 2,
   "metadata": {},
   "outputs": [
    {
     "name": "stdout",
     "output_type": "stream",
     "text": [
      "Preço: \"Alto\"/\"Médio\"/\"Baixo\": MEDIO\n",
      "ESTAÇÃO: \"Verão\"/\"Inverno\": verao\n",
      "FAIXA ETÁRIA: \"Adulto\"/\"Criança\": crianca\n",
      " \n",
      "Vendeu pouco\n"
     ]
    }
   ],
   "source": [
    "consulta()"
   ]
  },
  {
   "cell_type": "code",
   "execution_count": null,
   "metadata": {},
   "outputs": [],
   "source": []
  }
 ],
 "metadata": {
  "kernelspec": {
   "display_name": "Python 3",
   "language": "python",
   "name": "python3"
  },
  "language_info": {
   "codemirror_mode": {
    "name": "ipython",
    "version": 3
   },
   "file_extension": ".py",
   "mimetype": "text/x-python",
   "name": "python",
   "nbconvert_exporter": "python",
   "pygments_lexer": "ipython3",
   "version": "3.7.4"
  }
 },
 "nbformat": 4,
 "nbformat_minor": 2
}
